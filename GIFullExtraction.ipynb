{
 "cells": [
  {
   "cell_type": "code",
   "execution_count": 1,
   "id": "c79f5c04-3f0b-434c-8a55-ba5c7287ac28",
   "metadata": {},
   "outputs": [
    {
     "name": "stdout",
     "output_type": "stream",
     "text": [
      "BESTELLUNG Original\n",
      "I BG Monforts GmbH & Co. • Hanns-Martin-Schleyer-Straße 2 • 41199 Mönchengladbach\n",
      "Beleg-Nr. : 414574\n",
      "Gujarat Fluorochemicals GmbH Datum : 06.12.2018\n",
      "Am Kaiserkai 1 Kunden-Nr. :\n",
      "Lieferanten-Nr. : 7002916\n",
      "DE 20457 Hamburg Unser Zeichen : Alexander Lumpe\n",
      "Durchwahl : +49 2166 8682-31\n",
      "E-Mail : a.lumpe@ibg-monforts.com\n",
      "Seite : 1von 1\n",
      "Lieferadresse:\n",
      "IBG Monforts GmbH\n",
      "Hanns-Martin-Schleyer-Straße 2\n",
      "41199 Mönchengladbach\n",
      "Wir bestellen hiermit unter ausschließlicher Geltung unserer im Internet unter www.ibg-monforts.com\n",
      "nachzulesenden, sonst in unserem Hause anzufordernden allgemeinen Geschäftsbedingungen:\n",
      "Pos. Menge Beschreibung Einzelpreis Gesamtpreis\n",
      "1,0 1.500,000kg IBG-Nr. : 6007035000065 16,00EUR /E\n",
      "24.000,00EUR\n",
      "PTFE modifiziert\n",
      "INOFLON M695\n",
      "Liefertermin : KW 04/2019\n",
      "Bestellwert\n",
      "24.000,00EUR\n",
      "Zahlungsbedingung : gegen Vorkasse\n",
      "Lieferbedingung : ab Werk, ausschließlich Verpackung\n",
      "Mit freundlichem Gruß\n",
      "IBG Monforts GmbH & Co.\n",
      "IBG Monforts GmbH & Co.\n",
      "Hanns-Martin-Schleyer-Straße 2 • 41199 Mönchengladbach • Germany\n",
      "Tel.: +49 2166 8682-0 • Fax: +49 2166 8682-44\n",
      "info@ibg-monforts.com • www.ibg-monforts.com\n",
      "Mönchengladbach HRA 9289 • USt-IdNr.: DE 120 822 899\n",
      "Persönlich haftende Gesellschafterin: IBEGE Gesellsch. f. KBC Bank Belgien\n",
      "Kunststoffverarbeitung mbH • Mönchengladbach HRB 2240 IBAN: BE12 7360 4787 2392\n",
      "Geschäftsführer: Christian Monforts von Hobe BIC: KREDBEBB\n"
     ]
    }
   ],
   "source": [
    "import pdfplumber\n",
    "\n",
    "invoice = open(\"/Users/varungoli/Downloads/FW_ Sample po from GFL _ confidentail/GERMAN PO.pdf\", 'rb')\n",
    "\n",
    "with pdfplumber.open(invoice) as pdf:\n",
    "    page = pdf.pages[0]\n",
    "    text = page.extract_text()\n",
    "    \n",
    "print(text)"
   ]
  }
 ],
 "metadata": {
  "kernelspec": {
   "display_name": "Python 3 (ipykernel)",
   "language": "python",
   "name": "python3"
  },
  "language_info": {
   "codemirror_mode": {
    "name": "ipython",
    "version": 3
   },
   "file_extension": ".py",
   "mimetype": "text/x-python",
   "name": "python",
   "nbconvert_exporter": "python",
   "pygments_lexer": "ipython3",
   "version": "3.11.5"
  }
 },
 "nbformat": 4,
 "nbformat_minor": 5
}
