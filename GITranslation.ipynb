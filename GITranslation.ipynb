{
 "cells": [
  {
   "cell_type": "code",
   "execution_count": 7,
   "id": "bb67c8a2-7287-4939-84e2-6dc05955a338",
   "metadata": {},
   "outputs": [
    {
     "name": "stdout",
     "output_type": "stream",
     "text": [
      "{'af': 'afrikaans', 'sq': 'albanian', 'am': 'amharic', 'ar': 'arabic', 'hy': 'armenian', 'az': 'azerbaijani', 'eu': 'basque', 'be': 'belarusian', 'bn': 'bengali', 'bs': 'bosnian', 'bg': 'bulgarian', 'ca': 'catalan', 'ceb': 'cebuano', 'ny': 'chichewa', 'zh-cn': 'chinese (simplified)', 'zh-tw': 'chinese (traditional)', 'co': 'corsican', 'hr': 'croatian', 'cs': 'czech', 'da': 'danish', 'nl': 'dutch', 'en': 'english', 'eo': 'esperanto', 'et': 'estonian', 'tl': 'filipino', 'fi': 'finnish', 'fr': 'french', 'fy': 'frisian', 'gl': 'galician', 'ka': 'georgian', 'de': 'german', 'el': 'greek', 'gu': 'gujarati', 'ht': 'haitian creole', 'ha': 'hausa', 'haw': 'hawaiian', 'iw': 'hebrew', 'he': 'hebrew', 'hi': 'hindi', 'hmn': 'hmong', 'hu': 'hungarian', 'is': 'icelandic', 'ig': 'igbo', 'id': 'indonesian', 'ga': 'irish', 'it': 'italian', 'ja': 'japanese', 'jw': 'javanese', 'kn': 'kannada', 'kk': 'kazakh', 'km': 'khmer', 'ko': 'korean', 'ku': 'kurdish (kurmanji)', 'ky': 'kyrgyz', 'lo': 'lao', 'la': 'latin', 'lv': 'latvian', 'lt': 'lithuanian', 'lb': 'luxembourgish', 'mk': 'macedonian', 'mg': 'malagasy', 'ms': 'malay', 'ml': 'malayalam', 'mt': 'maltese', 'mi': 'maori', 'mr': 'marathi', 'mn': 'mongolian', 'my': 'myanmar (burmese)', 'ne': 'nepali', 'no': 'norwegian', 'or': 'odia', 'ps': 'pashto', 'fa': 'persian', 'pl': 'polish', 'pt': 'portuguese', 'pa': 'punjabi', 'ro': 'romanian', 'ru': 'russian', 'sm': 'samoan', 'gd': 'scots gaelic', 'sr': 'serbian', 'st': 'sesotho', 'sn': 'shona', 'sd': 'sindhi', 'si': 'sinhala', 'sk': 'slovak', 'sl': 'slovenian', 'so': 'somali', 'es': 'spanish', 'su': 'sundanese', 'sw': 'swahili', 'sv': 'swedish', 'tg': 'tajik', 'ta': 'tamil', 'te': 'telugu', 'th': 'thai', 'tr': 'turkish', 'uk': 'ukrainian', 'ur': 'urdu', 'ug': 'uyghur', 'uz': 'uzbek', 'vi': 'vietnamese', 'cy': 'welsh', 'xh': 'xhosa', 'yi': 'yiddish', 'yo': 'yoruba', 'zu': 'zulu'}\n"
     ]
    }
   ],
   "source": [
    "import googletrans\n",
    "\n",
    "print(googletrans.LANGUAGES)"
   ]
  },
  {
   "cell_type": "code",
   "execution_count": 8,
   "id": "e82facbc-ae9d-4bcc-aaab-20022b7c290a",
   "metadata": {},
   "outputs": [],
   "source": [
    "from googletrans import Translator"
   ]
  },
  {
   "cell_type": "code",
   "execution_count": 9,
   "id": "3829871b-c8df-44d3-9899-41d7b9a15d70",
   "metadata": {},
   "outputs": [],
   "source": [
    "translator = Translator()"
   ]
  },
  {
   "cell_type": "code",
   "execution_count": 3,
   "id": "427a204f-9313-4d67-aa6a-7a8d20c2405a",
   "metadata": {},
   "outputs": [],
   "source": [
    "f = open(\"/Users/varungoli/GIWritten.txt\", 'r')"
   ]
  },
  {
   "cell_type": "code",
   "execution_count": 11,
   "id": "eeec681a-9a0b-4667-a6be-1272cb561764",
   "metadata": {},
   "outputs": [
    {
     "name": "stdout",
     "output_type": "stream",
     "text": [
      "BESTELLUNG Original\n",
      "I BG Monforts GmbH & Co. • Hanns-Martin-Schleyer-Straße 2 • 41199 Mönchengladbach\n",
      "Beleg-Nr. : 414574\n",
      "Gujarat Fluorochemicals GmbH Datum : 06.12.2018\n",
      "Am Kaiserkai 1 Kunden-Nr. :\n",
      "Lieferanten-Nr. : 7002916\n",
      "DE 20457 Hamburg Unser Zeichen : Alexander Lumpe\n",
      "Durchwahl : +49 2166 8682-31\n",
      "E-Mail : a.lumpe@ibg-monforts.com\n",
      "Seite : 1von 1\n",
      "Lieferadresse:\n",
      "IBG Monforts GmbH\n",
      "Hanns-Martin-Schleyer-Straße 2\n",
      "41199 Mönchengladbach\n",
      "Wir bestellen hiermit unter ausschließlicher Geltung unserer im Internet unter www.ibg-monforts.com\n",
      "nachzulesenden, sonst in unserem Hause anzufordernden allgemeinen Geschäftsbedingungen:\n",
      "Pos. Menge Beschreibung Einzelpreis Gesamtpreis\n",
      "1,0 1.500,000kg IBG-Nr. : 6007035000065 16,00EUR /E\n",
      "24.000,00EUR\n",
      "PTFE modifiziert\n",
      "INOFLON M695\n",
      "Liefertermin : KW 04/2019\n",
      "Bestellwert\n",
      "24.000,00EUR\n",
      "Zahlungsbedingung : gegen Vorkasse\n",
      "Lieferbedingung : ab Werk, ausschließlich Verpackung\n",
      "Mit freundlichem Gruß\n",
      "IBG Monforts GmbH & Co.\n",
      "IBG Monforts GmbH & Co.\n",
      "Hanns-Martin-Schleyer-Straße 2 • 41199 Mönchengladbach • Germany\n",
      "Tel.: +49 2166 8682-0 • Fax: +49 2166 8682-44\n",
      "info@ibg-monforts.com • www.ibg-monforts.com\n",
      "Mönchengladbach HRA 9289 • USt-IdNr.: DE 120 822 899\n",
      "Persönlich haftende Gesellschafterin: IBEGE Gesellsch. f. KBC Bank Belgien\n",
      "Kunststoffverarbeitung mbH • Mönchengladbach HRB 2240 IBAN: BE12 7360 4787 2392\n",
      "Geschäftsführer: Christian Monforts von Hobe BIC: KREDBEBB\n"
     ]
    }
   ],
   "source": [
    "contents = f.read()\n",
    "print(contents)"
   ]
  },
  {
   "cell_type": "code",
   "execution_count": 12,
   "id": "8f19adb1-3f52-4f49-a583-8431f75fb18e",
   "metadata": {},
   "outputs": [
    {
     "name": "stdout",
     "output_type": "stream",
     "text": [
      "Order original\n",
      "I BG Monforts GmbH & Co. • Hanns-Martin-Schleyer-Straße 2 • 41199 Mönchengladbach\n",
      "Evidence no.: 414574\n",
      "Gujarat Fluorochemicals GmbH Date: 06.12.2018\n",
      "On the Kaiserkai 1 customer no.:\n",
      "Supplier no.: 7002916\n",
      "DE 20457 Hamburg Our sign: Alexander Lumpe\n",
      "Extension: +49 2166 8682-31\n",
      "Email: a.lump@ibg-monforts.com\n",
      "Page 1 of 1\n",
      "Delivery address:\n",
      "IBG MonForts GmbH\n",
      "Hanns-Martin-Schleyer-Strasse 2\n",
      "41199 Mönchengladbach\n",
      "We hereby order with the exclusive validity of our on the Internet at www.ibg-monforts.com\n",
      "to be rejected, otherwise to be requested in our house:\n",
      "Pos. Quantity description Individual price total price\n",
      "1.0 1,500,000 kg IBG no.: 6007035000065 16.00EUR /E\n",
      "24,000.00EUR\n",
      "Ptfe modified\n",
      "Inoflon M695\n",
      "Delivery date: KW 04/2019\n",
      "Order value\n",
      "24,000.00EUR\n",
      "Payment condition: against prepayment\n",
      "Delivery condition: ex works, exclusively packaging\n",
      "Sincerely\n",
      "IBG Monforts GmbH & Co.\n",
      "IBG Monforts GmbH & Co.\n",
      "Hanns-Martin-Schleyer-Straße 2 • 41199 Mönchengladbach • Germany\n",
      "Tel.: +49 2166 8682-0 • Fax: +49 2166 8682-44\n",
      "info@ibg-monforts.com • www.ibg-monforts.com\n",
      "Mönchengladbach HRA 9289 • VAT Idnr.: DE 120 822 899\n",
      "Personally liable partner: Ibege Gesch.f. KBC Bank Belgium\n",
      "Plastic processing mbh • Mönchengladbach HRB 2240 IBAN: BE12 7360 4787 2392\n",
      "Managing Director: Christian Monforms from Hobe BIC: KonbbB\n"
     ]
    }
   ],
   "source": [
    "result = translator.translate(contents, dest = 'en')\n",
    "print(result.text)"
   ]
  }
 ],
 "metadata": {
  "kernelspec": {
   "display_name": "Python 3 (ipykernel)",
   "language": "python",
   "name": "python3"
  },
  "language_info": {
   "codemirror_mode": {
    "name": "ipython",
    "version": 3
   },
   "file_extension": ".py",
   "mimetype": "text/x-python",
   "name": "python",
   "nbconvert_exporter": "python",
   "pygments_lexer": "ipython3",
   "version": "3.11.5"
  }
 },
 "nbformat": 4,
 "nbformat_minor": 5
}
