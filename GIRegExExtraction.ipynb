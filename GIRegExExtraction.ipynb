{
 "cells": [
  {
   "cell_type": "code",
   "execution_count": 61,
   "id": "893bd9e4-0499-465d-b2fb-ab008d7f4531",
   "metadata": {},
   "outputs": [
    {
     "name": "stdout",
     "output_type": "stream",
     "text": [
      "Managing Director: Christian Monforts von\n",
      "Supplier Number: 7002916\n",
      "Invoice Number: 414574\n",
      "Invoice Date: 06.12.2018\n",
      "Delivery Date: 04/2019\n",
      "Quantity: 1.500,000kg\n"
     ]
    }
   ],
   "source": [
    "import requests\n",
    "import pdfplumber\n",
    "import pdftotext\n",
    "import re\n",
    "\n",
    "invoice = open(\"/Users/varungoli/Downloads/FW_ Sample po from GFL _ confidentail/GERMAN PO.pdf\", 'rb')\n",
    "\n",
    "with pdfplumber.open(invoice) as pdf:\n",
    "    page = pdf.pages[0]\n",
    "    text = page.extract_text()\n",
    "    \n",
    "for row in text.split('\\n'):\n",
    "    if row.startswith('Geschäftsführer'):\n",
    "        md = row.split()[-4]\n",
    "        \n",
    "for row in text.split('\\n'):\n",
    "    if row.startswith('Geschäftsführer'):\n",
    "        md1 = row.split()[-5]\n",
    "        \n",
    "for row in text.split('\\n'):\n",
    "    if row.startswith('Geschäftsführer'):\n",
    "        md2 = row.split()[-6]\n",
    "        \n",
    "for row in text.split('\\n'):\n",
    "    if row.startswith('Lieferanten-Nr.'):\n",
    "        supplier_num = row.split()[-1]\n",
    "        \n",
    "for row in text.split('\\n'):\n",
    "    if row.startswith('Beleg-Nr.'):\n",
    "        invoice_num = row.split()[-1]\n",
    "        \n",
    "for row in text.split('\\n'):\n",
    "    if row.startswith('GmbH Datum'):\n",
    "        invoice_date = row.split()[-1]\n",
    "        \n",
    "for row in text.split('\\n'):\n",
    "    if row.startswith('Liefertermin'):\n",
    "        del_date = row.split()[-1]\n",
    "        \n",
    "for row in text.split('\\n'):\n",
    "    if row.startswith('1,0'):\n",
    "        quantity = row.split()[-6]\n",
    "        \n",
    "print(\"Managing Director: \" + md2 + \" \" + md1 + \" \" + md)\n",
    "print(\"Supplier Number: \" + supplier_num)\n",
    "print(\"Invoice Number: \" + invoice_num)\n",
    "print(\"Invoice Date: \" + invoice_date)\n",
    "print(\"Delivery Date: \" + del_date)\n",
    "print(\"Quantity: \" + quantity) "
   ]
  }
 ],
 "metadata": {
  "kernelspec": {
   "display_name": "Python 3 (ipykernel)",
   "language": "python",
   "name": "python3"
  },
  "language_info": {
   "codemirror_mode": {
    "name": "ipython",
    "version": 3
   },
   "file_extension": ".py",
   "mimetype": "text/x-python",
   "name": "python",
   "nbconvert_exporter": "python",
   "pygments_lexer": "ipython3",
   "version": "3.11.5"
  }
 },
 "nbformat": 4,
 "nbformat_minor": 5
}
